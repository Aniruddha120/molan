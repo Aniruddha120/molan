{
 "cells": [
  {
   "cell_type": "markdown",
   "metadata": {
    "colab_type": "text",
    "id": "E2WKAG1jCx9_"
   },
   "source": [
    "# Install RDkit in Colab"
   ]
  },
  {
   "cell_type": "code",
   "execution_count": null,
   "metadata": {
    "ExecuteTime": {
     "end_time": "2019-08-16T15:08:33.805139Z",
     "start_time": "2019-08-16T15:08:33.651792Z"
    },
    "colab": {
     "base_uri": "https://localhost:8080/",
     "height": 1000
    },
    "colab_type": "code",
    "id": "QCqxbuQ7BSmS",
    "outputId": "45cf78ee-fb59-479d-88ea-ee00a4312f3b",
    "scrolled": true
   },
   "outputs": [],
   "source": [
    "import os\n",
    "import subprocess\n",
    "import sys\n",
    "\n",
    "IN_COLAB = 'google.colab' in sys.modules\n",
    "\n",
    "def run_cmd(cmd):\n",
    "    print(f'Output of \"{cmd}\":')\n",
    "    print(subprocess.run(cmd, stdout=subprocess.PIPE, shell=True).stdout.decode('utf-8'))\n",
    "    \n",
    "def run_cmd_list(cmd_list):\n",
    "    [run_cmd(cmd) for cmd in cmd_list]\n",
    "\n",
    "def pip_install(module_list):\n",
    "    run_cmd_list([f'pip install  --upgrade --force-reinstall {mod}' for mod in module_list])\n",
    "\n",
    "def install_rdkit():\n",
    "    cmd_list = [\n",
    "        \"wget -c https://repo.continuum.io/miniconda/Miniconda3-latest-Linux-x86_64.sh\",\n",
    "        \"chmod +x Miniconda3-latest-Linux-x86_64.sh\",\n",
    "        \"bash ./Miniconda3-latest-Linux-x86_64.sh -b -f -p /usr/local\",\n",
    "        \"conda install -q -y -c conda-forge rdkit\",\n",
    "        \"rm -rf Miniconda3-latest-Linux-x86_64.sh\"]\n",
    "    print('Installing rdkit\\n\\n')\n",
    "    run_cmd_list(cmd_list)\n",
    "    custom_path = '/usr/local/lib/python3.7/site-packages/'\n",
    "    print(f'Do not forget to append \"{custom_path}\"\" to sys.path')\n",
    "    \n",
    "if IN_COLAB:\n",
    "    SRC_DIR = '.'\n",
    "    run_cmd('pip unistall tensorflow')\n",
    "    pip_install(['tensorflow', 'tqdm','git+https://github.com/GPflow/GPflow.git@develop#egg=gpflow'])\n",
    "    install_rdkit()    \n",
    "else:\n",
    "    SRC_DIR = '..'\n",
    "\n",
    "print('Using colab? {}, using root directory \"{}\"'.format(IN_COLAB, SRC_DIR))"
   ]
  },
  {
   "cell_type": "markdown",
   "metadata": {
    "colab_type": "text",
    "id": "mkZSe34xqNsg"
   },
   "source": [
    "## Append to path"
   ]
  },
  {
   "cell_type": "code",
   "execution_count": null,
   "metadata": {
    "ExecuteTime": {
     "end_time": "2019-08-16T15:08:34.025933Z",
     "start_time": "2019-08-16T15:08:34.018364Z"
    },
    "colab": {},
    "colab_type": "code",
    "id": "YN4Hd40QlVd9"
   },
   "outputs": [],
   "source": [
    "import sys\n",
    "import os\n",
    "if 'google.colab' in sys.modules:\n",
    "    SRC_DIR='.'\n",
    "    sys.path.append('/usr/local/lib/python3.7/site-packages/')"
   ]
  },
  {
   "cell_type": "markdown",
   "metadata": {
    "colab_type": "text",
    "id": "04D1WHnDjsaz"
   },
   "source": [
    "## Libraries"
   ]
  },
  {
   "cell_type": "code",
   "execution_count": null,
   "metadata": {
    "ExecuteTime": {
     "end_time": "2019-08-16T15:08:39.393742Z",
     "start_time": "2019-08-16T15:08:36.361681Z"
    },
    "colab": {
     "base_uri": "https://localhost:8080/",
     "height": 68
    },
    "colab_type": "code",
    "id": "MHxKS8YKlqFs",
    "outputId": "44d1a902-9643-42b2-9f61-29ba20b29251"
   },
   "outputs": [],
   "source": [
    "# utils\n",
    "from collections import OrderedDict\n",
    "from tqdm.autonotebook import tqdm\n",
    "# scientific python\n",
    "import matplotlib.pyplot as plt\n",
    "import numpy as np\n",
    "import pandas as pd\n",
    "import seaborn as sns\n",
    "import sklearn\n",
    "import sklearn.metrics\n",
    "import sklearn.model_selection\n",
    "import sklearn.preprocessing\n",
    "import sklearn.ensemble\n",
    "import scipy.stats\n",
    "\n",
    "import tensorflow as tf\n",
    "import gpflow\n",
    "from gpflow.utilities import print_summary\n",
    "\n",
    "# rdkit stuff\n",
    "import rdkit\n",
    "from rdkit import Chem\n",
    "from rdkit.Chem import AllChem, Draw\n",
    "from rdkit.Chem.Draw import IPythonConsole\n",
    "print(f'rdkit : {rdkit.__version__}')\n",
    "print(f' tf   : {tf.__version__}')\n",
    "print(f'gpflow: {gpflow.__version__}')\n",
    "tqdm.pandas()"
   ]
  },
  {
   "cell_type": "code",
   "execution_count": null,
   "metadata": {
    "colab": {},
    "colab_type": "code",
    "id": "yzTowmfHHhz3"
   },
   "outputs": [],
   "source": [
    "def rf_feature_mask(x, y, k):\n",
    "   rf = sklearn.ensemble.RandomForestRegressor()\n",
    "   rf.fit(x,y)\n",
    "   indices = (-rf.feature_importances_).argsort()[:k]\n",
    "   mask = np.zeros_like(rf.feature_importances_)\n",
    "   mask[indices] = 1.0\n",
    "   return mask.astype(bool)\n",
    "\n",
    "class IdentityTransformer(sklearn.preprocessing.FunctionTransformer):\n",
    "    \n",
    "    def __init__(self):\n",
    "        super().__init__(lambda x:x, lambda x:x)\n",
    "\n",
    "class GPFeature():\n",
    "    \n",
    "    def __init__(self, label, x, y, n_features=None, preproc=None):\n",
    "        self.label = label\n",
    "        n_features = n_features or x.shape[-1]\n",
    "        x_feats = x.shape[-1]\n",
    "        if n_features > x_feats:\n",
    "            raise ValueError(f'n_features={n_features} larger than x.shape[-1] {x_feats}')\n",
    "        elif n_features < x_feats:\n",
    "            mask = rf_feature_mask(x, y, n_features)\n",
    "        else:\n",
    "            mask = np.ones(x_feats).astype(bool)\n",
    "        self.mask = mask\n",
    "        preproc = preproc or IdentityTransformer()\n",
    "        self.preproc = preproc.fit(x[:,self.mask])\n",
    "        self.ndim = sum(self.mask)\n",
    "        self.active_dims = np.arange(self.ndim)\n",
    "    \n",
    "    def transform(self, x):\n",
    "        return self.preproc.transform(x[:,self.mask]).astype(np.float64)\n",
    "    \n",
    "def evaluate_result(y_true, y_pred, fold=None):\n",
    "    result = OrderedDict()\n",
    "    result['r2'] = sklearn.metrics.r2_score(y_true,y_pred)\n",
    "    result['rmse'] = np.sqrt(sklearn.metrics.mean_squared_error(y_true,y_pred))\n",
    "    result['mae'] = np.sqrt(sklearn.metrics.mean_absolute_error(y_true,y_pred))\n",
    "    result['r'] = scipy.stats.pearsonr(y_test.ravel(),y_pred.ravel())[0]\n",
    "    if fold:\n",
    "        result['cv'] = fold\n",
    "    return result\n"
   ]
  },
  {
   "cell_type": "markdown",
   "metadata": {
    "colab_type": "text",
    "id": "2_VMpnxZjngD"
   },
   "source": [
    "# Task and data: predict Melting Point 💧\n"
   ]
  },
  {
   "cell_type": "markdown",
   "metadata": {
    "colab_type": "text",
    "id": "KrAN_DYIbtSb"
   },
   "source": [
    "## Let's load some molecular data with 🐼s"
   ]
  },
  {
   "cell_type": "code",
   "execution_count": null,
   "metadata": {
    "colab": {
     "base_uri": "https://localhost:8080/",
     "height": 204
    },
    "colab_type": "code",
    "id": "O4Enz04zDPON",
    "outputId": "03da914e-872b-4d17-d92a-aeabb501ae62"
   },
   "outputs": [],
   "source": [
    "!wget https://web.alcf.anl.gov/~vama/melting_point_data/table_47k.cvs"
   ]
  },
  {
   "cell_type": "code",
   "execution_count": null,
   "metadata": {
    "ExecuteTime": {
     "end_time": "2019-05-18T03:06:41.282906Z",
     "start_time": "2019-05-18T03:06:41.052729Z"
    },
    "colab": {
     "base_uri": "https://localhost:8080/",
     "height": 374
    },
    "colab_type": "code",
    "id": "E-x-5GtplqGK",
    "outputId": "3ed86ebd-121d-4277-9d4b-39563124af6a"
   },
   "outputs": [],
   "source": [
    "df = pd.read_csv('table_47k.cvs')\n",
    "print(df.shape)\n",
    "print(df.columns)\n",
    "smiles_column='smiles'\n",
    "df['mol'] = df[smiles_column].apply(Chem.MolFromSmiles)\n",
    "target='Tm'\n",
    "df.head()"
   ]
  },
  {
   "cell_type": "code",
   "execution_count": null,
   "metadata": {
    "colab": {},
    "colab_type": "code",
    "id": "oNryagrNGWWG"
   },
   "outputs": [],
   "source": [
    "getonly=['NHOHCount', 'NOCount', 'NumAliphaticCarbocycles',\n",
    "                           'NumAliphaticHeterocycles', 'NumAliphaticRings',\n",
    "                           'NumAromaticCarbocycles', 'NumAromaticHeterocycles',\n",
    "                           'NumAromaticRings', 'NumHAcceptors', 'NumHDonors', \n",
    "                           'NumHeteroatoms', 'NumRadicalElectrons', 'NumRotatableBonds',\n",
    "                           'NumSaturatedCarbocycles', 'NumSaturatedHeterocycles', \n",
    "                           'NumSaturatedRings', 'NumValenceElectrons',\n",
    "'qed','TPSA', 'MolMR','BalabanJ', 'BertzCT',\n",
    "'fr_Al_OH', 'fr_Al_OH_noTert', 'fr_ArN', 'fr_Ar_COO',\n",
    "                            'fr_Ar_N', 'fr_Ar_NH', 'fr_Ar_OH', 'fr_COO', 'fr_COO2', \n",
    "                            'fr_C_O', 'fr_C_O_noCOO', 'fr_C_S', 'fr_HOCCN', 'fr_Imine',\n",
    "                            'fr_NH0', 'fr_NH1', 'fr_NH2', 'fr_N_O', 'fr_Ndealkylation1',\n",
    "                            'fr_Ndealkylation2', 'fr_Nhpyrrole', 'fr_SH', 'fr_aldehyde',\n",
    "                            'fr_alkyl_carbamate', 'fr_alkyl_halide', 'fr_allylic_oxid', 'fr_amide',\n",
    "                            'fr_amidine', 'fr_aniline', 'fr_aryl_methyl', 'fr_azide', 'fr_azo',\n",
    "                            'fr_barbitur', 'fr_benzene', 'fr_benzodiazepine', 'fr_bicyclic',\n",
    "                            'fr_diazo', 'fr_dihydropyridine', 'fr_epoxide', 'fr_ester', 'fr_ether',\n",
    "                            'fr_furan', 'fr_guanido', 'fr_halogen', 'fr_hdrzine', 'fr_hdrzone', \n",
    "                            'fr_imidazole', 'fr_imide', 'fr_isocyan', 'fr_isothiocyan', 'fr_ketone',\n",
    "                            'fr_ketone_Topliss', 'fr_lactam', 'fr_lactone', 'fr_methoxy', 'fr_morpholine',\n",
    "                            'fr_nitrile', 'fr_nitro', 'fr_nitro_arom', 'fr_nitro_arom_nonortho', \n",
    "                            'fr_nitroso', 'fr_oxazole', 'fr_oxime', 'fr_para_hydroxylation', \n",
    "                            'fr_phenol', 'fr_phenol_noOrthoHbond', 'fr_phos_acid', 'fr_phos_ester', \n",
    "                            'fr_piperdine', 'fr_piperzine', 'fr_priamide', 'fr_prisulfonamd',\n",
    "                            'fr_pyridine', 'fr_quatN', 'fr_sulfide', 'fr_sulfonamd', 'fr_sulfone',\n",
    "                            'fr_term_acetylene', 'fr_tetrazole', 'fr_thiazole', 'fr_thiocyan', \n",
    "                            'fr_thiophene', 'fr_unbrch_alkane', 'fr_urea',\n",
    "                            'MolWt','MolLogP']"
   ]
  },
  {
   "cell_type": "code",
   "execution_count": null,
   "metadata": {
    "colab": {
     "base_uri": "https://localhost:8080/",
     "height": 34
    },
    "colab_type": "code",
    "id": "nbtoXrE6GX6b",
    "outputId": "108fa5f1-dd53-4950-a1a1-f18980a8df09"
   },
   "outputs": [],
   "source": [
    "import inspect\n",
    "import rdkit.Chem.Descriptors as Descriptors\n",
    "\n",
    "\n",
    "calc_props = OrderedDict(inspect.getmembers(Descriptors, inspect.isfunction))\n",
    "for key in list(calc_props.keys()):\n",
    "    if key.startswith('_'):\n",
    "        del calc_props[key]\n",
    "def calc_all(df,calc_props,smiles_col='smiles'):\n",
    "    #df['mol'] = df[smiles_col].apply(Chem.MolFromSmiles)\n",
    "    for key,val in tqdm(calc_props.items()):\n",
    "        if key in getonly:\n",
    "           df[key] = df['mol'].apply(val)\n",
    "    return df\n",
    "print('Found {} molecular descriptors in RDKIT'.format(len(calc_props)))\n",
    "#calc_props"
   ]
  },
  {
   "cell_type": "code",
   "execution_count": null,
   "metadata": {
    "colab": {
     "base_uri": "https://localhost:8080/",
     "height": 217,
     "referenced_widgets": [
      "7c9343cfa21145b887bdc4c8ee9700b9",
      "c3f9bee1f9d24dc98612fc94bc809ea6",
      "24fcc944ebc5423fa452bc6f034ad56a",
      "2e48b4d97cb249bea0165db8f273d51e",
      "4812aece075f4998a0c27a90950ae037",
      "8007bedf20574644855b4c308247f7f2",
      "716378f34be44f1485cec96151d729ad",
      "2cbf9e003fdf458cb2b2b5b9f631f61e"
     ]
    },
    "colab_type": "code",
    "id": "J6XxBjKvK78_",
    "outputId": "14bdad0d-2de9-46fd-f602-a05a6a3bb0aa"
   },
   "outputs": [],
   "source": [
    "calc_all(df,calc_props)\n",
    "print(df.shape)\n",
    "df.head(1)"
   ]
  },
  {
   "cell_type": "markdown",
   "metadata": {
    "colab_type": "text",
    "id": "FoEKf6nRb4mZ"
   },
   "source": [
    "\n",
    "## Train/test splits"
   ]
  },
  {
   "cell_type": "code",
   "execution_count": null,
   "metadata": {
    "colab": {
     "base_uri": "https://localhost:8080/",
     "height": 34
    },
    "colab_type": "code",
    "id": "kbvY0_0Wb3G5",
    "outputId": "102858b3-4f9d-4d9b-ecdd-1ae79ef85b9f"
   },
   "outputs": [],
   "source": [
    "indices=df.index.tolist()\n",
    "train_index,test_index = sklearn.model_selection.train_test_split(indices, test_size=.20)\n",
    "print(len(train_index),len(test_index))"
   ]
  },
  {
   "cell_type": "markdown",
   "metadata": {
    "colab_type": "text",
    "id": "-JQThLm0Fmvl"
   },
   "source": [
    "## Target"
   ]
  },
  {
   "cell_type": "code",
   "execution_count": null,
   "metadata": {
    "colab": {
     "base_uri": "https://localhost:8080/",
     "height": 34
    },
    "colab_type": "code",
    "id": "heUZ1XtDEpOl",
    "outputId": "cef91a6c-89b3-4c6b-cef3-ab1da45531f0"
   },
   "outputs": [],
   "source": [
    "target='Tm'\n",
    "y_true = df[target].values.reshape(-1,1).astype(np.float64)\n",
    "y_preproc = sklearn.preprocessing.StandardScaler()\n",
    "y_train = y_preproc.fit_transform(y_true[train_index])\n",
    "y_test = y_true[test_index]\n",
    "print(y_train.shape, y_test.shape)"
   ]
  },
  {
   "cell_type": "markdown",
   "metadata": {
    "colab_type": "text",
    "id": "PsgOgQKjFsu_"
   },
   "source": [
    "## Fingerprint features"
   ]
  },
  {
   "cell_type": "code",
   "execution_count": null,
   "metadata": {
    "colab": {},
    "colab_type": "code",
    "id": "L98PQuf1FJ5d"
   },
   "outputs": [],
   "source": [
    "fp = np.vstack(df['mol'].apply(lambda m: np.array(AllChem.GetMorganFingerprintAsBitVect(m,3,nBits=2048))).values)\n",
    "print(fp.shape)\n",
    "fp_feat = GPFeature('fp', fp[train_index], y_train, 200)\n",
    "fp_train = fp_feat.transform(fp[train_index]) \n",
    "fp_test = fp_feat.transform(fp[test_index]) \n",
    "print(fp_train.shape,fp_test.shape)"
   ]
  },
  {
   "cell_type": "markdown",
   "metadata": {
    "colab_type": "text",
    "id": "OtGhBq6URk6r"
   },
   "source": [
    "## chemoinformatic features"
   ]
  },
  {
   "cell_type": "code",
   "execution_count": null,
   "metadata": {
    "colab": {},
    "colab_type": "code",
    "id": "mubxhN1fRjO4"
   },
   "outputs": [],
   "source": [
    "other_features = getonly\n",
    "x_tmp = df[other_features].values\n",
    "chem_feat = GPFeature('chemoinformatic', x_tmp[train_index],y_train, 4, sklearn.preprocessing.StandardScaler())\n",
    "chem_train = chem_feat.transform(x_tmp[train_index])\n",
    "chem_test = chem_feat.transform(x_tmp[test_index])\n",
    "print(chem_train.shape,chem_test.shape)"
   ]
  },
  {
   "cell_type": "markdown",
   "metadata": {
    "colab_type": "text",
    "id": "t4zrofvCTvhD"
   },
   "source": [
    "## Stack features into one numpy array"
   ]
  },
  {
   "cell_type": "code",
   "execution_count": null,
   "metadata": {
    "colab": {},
    "colab_type": "code",
    "id": "j2ryFMTKMzVu"
   },
   "outputs": [],
   "source": [
    "x_train = np.hstack((fp_train,chem_train))\n",
    "x_test = np.hstack((fp_test,chem_test))\n",
    "print(x_train.shape,x_test.shape)"
   ]
  },
  {
   "cell_type": "markdown",
   "metadata": {
    "colab_type": "text",
    "id": "M_6CVsoHTD8p"
   },
   "source": [
    "# GP regression\n",
    "## Build kernel"
   ]
  },
  {
   "cell_type": "code",
   "execution_count": null,
   "metadata": {
    "colab": {},
    "colab_type": "code",
    "id": "Hbe4AGjVTEJf"
   },
   "outputs": [],
   "source": [
    "last_dim = 0\n",
    "fp_kernel = gpflow.kernels.RBF(active_dims=fp_feat.active_dims+last_dim)\n",
    "last_dim  = fp_kernel.active_dims[-1]+1\n",
    "chem_kernel = gpflow.kernels.RBF(active_dims=chem_feat.active_dims+last_dim)\n",
    "kernel = fp_kernel + chem_kernel\n",
    "print_summary(kernel)"
   ]
  },
  {
   "cell_type": "markdown",
   "metadata": {
    "colab_type": "text",
    "id": "Pvbla5AYQ5Hn"
   },
   "source": [
    "## Specify the model"
   ]
  },
  {
   "cell_type": "code",
   "execution_count": null,
   "metadata": {
    "colab": {},
    "colab_type": "code",
    "id": "m3rPAY9KMbZ0"
   },
   "outputs": [],
   "source": [
    "model = gpflow.models.GPR(data=(x_train, y_train), kernel=kernel, mean_function=None)"
   ]
  },
  {
   "cell_type": "markdown",
   "metadata": {
    "colab_type": "text",
    "id": "n9oQGRQ_Q7Hk"
   },
   "source": [
    "## Optimize model"
   ]
  },
  {
   "cell_type": "code",
   "execution_count": null,
   "metadata": {
    "colab": {},
    "colab_type": "code",
    "id": "KFHvVnEEOtgZ"
   },
   "outputs": [],
   "source": [
    "opt = gpflow.optimizers.Scipy()\n",
    "\n",
    "def objective():\n",
    "    return - model.log_marginal_likelihood()\n",
    "\n",
    "opt_logs = opt.minimize(objective,\n",
    "                        model.trainable_variables,\n",
    "                        options=dict(maxiter=500))\n",
    "print_summary(model)"
   ]
  },
  {
   "cell_type": "markdown",
   "metadata": {
    "colab_type": "text",
    "id": "Up3hgCglQ2x9"
   },
   "source": [
    "## Results"
   ]
  },
  {
   "cell_type": "code",
   "execution_count": null,
   "metadata": {
    "colab": {},
    "colab_type": "code",
    "id": "begV6sDePL8_"
   },
   "outputs": [],
   "source": [
    "y_pred, y_std  = model.predict_y(x_test)\n",
    "y_pred = y_preproc.inverse_transform(y_pred.numpy())\n",
    "results = [evaluate_result(y_test, y_pred)]\n",
    "pd.DataFrame(results)"
   ]
  },
  {
   "cell_type": "code",
   "execution_count": null,
   "metadata": {
    "colab": {},
    "colab_type": "code",
    "id": "JHgcny-1Wqyk"
   },
   "outputs": [],
   "source": []
  }
 ],
 "metadata": {
  "accelerator": "GPU",
  "colab": {
   "collapsed_sections": [],
   "name": "GPFlow_ML.ipynb",
   "provenance": [],
   "toc_visible": true
  },
  "kernelspec": {
   "display_name": "Python 3",
   "language": "python",
   "name": "python3"
  },
  "language_info": {
   "codemirror_mode": {
    "name": "ipython",
    "version": 3
   },
   "file_extension": ".py",
   "mimetype": "text/x-python",
   "name": "python",
   "nbconvert_exporter": "python",
   "pygments_lexer": "ipython3",
   "version": "3.7.4"
  },
  "toc": {
   "base_numbering": 1,
   "nav_menu": {},
   "number_sections": true,
   "sideBar": true,
   "skip_h1_title": false,
   "title_cell": "Table of Contents",
   "title_sidebar": "Contents",
   "toc_cell": true,
   "toc_position": {},
   "toc_section_display": true,
   "toc_window_display": true
  },
  "widgets": {
   "application/vnd.jupyter.widget-state+json": {
    "24fcc944ebc5423fa452bc6f034ad56a": {
     "model_module": "@jupyter-widgets/controls",
     "model_name": "FloatProgressModel",
     "state": {
      "_dom_classes": [],
      "_model_module": "@jupyter-widgets/controls",
      "_model_module_version": "1.5.0",
      "_model_name": "FloatProgressModel",
      "_view_count": null,
      "_view_module": "@jupyter-widgets/controls",
      "_view_module_version": "1.5.0",
      "_view_name": "ProgressView",
      "bar_style": "success",
      "description": "100%",
      "description_tooltip": null,
      "layout": "IPY_MODEL_8007bedf20574644855b4c308247f7f2",
      "max": 200,
      "min": 0,
      "orientation": "horizontal",
      "style": "IPY_MODEL_4812aece075f4998a0c27a90950ae037",
      "value": 200
     }
    },
    "2cbf9e003fdf458cb2b2b5b9f631f61e": {
     "model_module": "@jupyter-widgets/base",
     "model_name": "LayoutModel",
     "state": {
      "_model_module": "@jupyter-widgets/base",
      "_model_module_version": "1.2.0",
      "_model_name": "LayoutModel",
      "_view_count": null,
      "_view_module": "@jupyter-widgets/base",
      "_view_module_version": "1.2.0",
      "_view_name": "LayoutView",
      "align_content": null,
      "align_items": null,
      "align_self": null,
      "border": null,
      "bottom": null,
      "display": null,
      "flex": null,
      "flex_flow": null,
      "grid_area": null,
      "grid_auto_columns": null,
      "grid_auto_flow": null,
      "grid_auto_rows": null,
      "grid_column": null,
      "grid_gap": null,
      "grid_row": null,
      "grid_template_areas": null,
      "grid_template_columns": null,
      "grid_template_rows": null,
      "height": null,
      "justify_content": null,
      "justify_items": null,
      "left": null,
      "margin": null,
      "max_height": null,
      "max_width": null,
      "min_height": null,
      "min_width": null,
      "object_fit": null,
      "object_position": null,
      "order": null,
      "overflow": null,
      "overflow_x": null,
      "overflow_y": null,
      "padding": null,
      "right": null,
      "top": null,
      "visibility": null,
      "width": null
     }
    },
    "2e48b4d97cb249bea0165db8f273d51e": {
     "model_module": "@jupyter-widgets/controls",
     "model_name": "HTMLModel",
     "state": {
      "_dom_classes": [],
      "_model_module": "@jupyter-widgets/controls",
      "_model_module_version": "1.5.0",
      "_model_name": "HTMLModel",
      "_view_count": null,
      "_view_module": "@jupyter-widgets/controls",
      "_view_module_version": "1.5.0",
      "_view_name": "HTMLView",
      "description": "",
      "description_tooltip": null,
      "layout": "IPY_MODEL_2cbf9e003fdf458cb2b2b5b9f631f61e",
      "placeholder": "​",
      "style": "IPY_MODEL_716378f34be44f1485cec96151d729ad",
      "value": " 200/200 [00:49&lt;00:00,  4.07it/s]"
     }
    },
    "4812aece075f4998a0c27a90950ae037": {
     "model_module": "@jupyter-widgets/controls",
     "model_name": "ProgressStyleModel",
     "state": {
      "_model_module": "@jupyter-widgets/controls",
      "_model_module_version": "1.5.0",
      "_model_name": "ProgressStyleModel",
      "_view_count": null,
      "_view_module": "@jupyter-widgets/base",
      "_view_module_version": "1.2.0",
      "_view_name": "StyleView",
      "bar_color": null,
      "description_width": "initial"
     }
    },
    "716378f34be44f1485cec96151d729ad": {
     "model_module": "@jupyter-widgets/controls",
     "model_name": "DescriptionStyleModel",
     "state": {
      "_model_module": "@jupyter-widgets/controls",
      "_model_module_version": "1.5.0",
      "_model_name": "DescriptionStyleModel",
      "_view_count": null,
      "_view_module": "@jupyter-widgets/base",
      "_view_module_version": "1.2.0",
      "_view_name": "StyleView",
      "description_width": ""
     }
    },
    "7c9343cfa21145b887bdc4c8ee9700b9": {
     "model_module": "@jupyter-widgets/controls",
     "model_name": "HBoxModel",
     "state": {
      "_dom_classes": [],
      "_model_module": "@jupyter-widgets/controls",
      "_model_module_version": "1.5.0",
      "_model_name": "HBoxModel",
      "_view_count": null,
      "_view_module": "@jupyter-widgets/controls",
      "_view_module_version": "1.5.0",
      "_view_name": "HBoxView",
      "box_style": "",
      "children": [
       "IPY_MODEL_24fcc944ebc5423fa452bc6f034ad56a",
       "IPY_MODEL_2e48b4d97cb249bea0165db8f273d51e"
      ],
      "layout": "IPY_MODEL_c3f9bee1f9d24dc98612fc94bc809ea6"
     }
    },
    "8007bedf20574644855b4c308247f7f2": {
     "model_module": "@jupyter-widgets/base",
     "model_name": "LayoutModel",
     "state": {
      "_model_module": "@jupyter-widgets/base",
      "_model_module_version": "1.2.0",
      "_model_name": "LayoutModel",
      "_view_count": null,
      "_view_module": "@jupyter-widgets/base",
      "_view_module_version": "1.2.0",
      "_view_name": "LayoutView",
      "align_content": null,
      "align_items": null,
      "align_self": null,
      "border": null,
      "bottom": null,
      "display": null,
      "flex": null,
      "flex_flow": null,
      "grid_area": null,
      "grid_auto_columns": null,
      "grid_auto_flow": null,
      "grid_auto_rows": null,
      "grid_column": null,
      "grid_gap": null,
      "grid_row": null,
      "grid_template_areas": null,
      "grid_template_columns": null,
      "grid_template_rows": null,
      "height": null,
      "justify_content": null,
      "justify_items": null,
      "left": null,
      "margin": null,
      "max_height": null,
      "max_width": null,
      "min_height": null,
      "min_width": null,
      "object_fit": null,
      "object_position": null,
      "order": null,
      "overflow": null,
      "overflow_x": null,
      "overflow_y": null,
      "padding": null,
      "right": null,
      "top": null,
      "visibility": null,
      "width": null
     }
    },
    "c3f9bee1f9d24dc98612fc94bc809ea6": {
     "model_module": "@jupyter-widgets/base",
     "model_name": "LayoutModel",
     "state": {
      "_model_module": "@jupyter-widgets/base",
      "_model_module_version": "1.2.0",
      "_model_name": "LayoutModel",
      "_view_count": null,
      "_view_module": "@jupyter-widgets/base",
      "_view_module_version": "1.2.0",
      "_view_name": "LayoutView",
      "align_content": null,
      "align_items": null,
      "align_self": null,
      "border": null,
      "bottom": null,
      "display": null,
      "flex": null,
      "flex_flow": null,
      "grid_area": null,
      "grid_auto_columns": null,
      "grid_auto_flow": null,
      "grid_auto_rows": null,
      "grid_column": null,
      "grid_gap": null,
      "grid_row": null,
      "grid_template_areas": null,
      "grid_template_columns": null,
      "grid_template_rows": null,
      "height": null,
      "justify_content": null,
      "justify_items": null,
      "left": null,
      "margin": null,
      "max_height": null,
      "max_width": null,
      "min_height": null,
      "min_width": null,
      "object_fit": null,
      "object_position": null,
      "order": null,
      "overflow": null,
      "overflow_x": null,
      "overflow_y": null,
      "padding": null,
      "right": null,
      "top": null,
      "visibility": null,
      "width": null
     }
    }
   }
  }
 },
 "nbformat": 4,
 "nbformat_minor": 4
}
